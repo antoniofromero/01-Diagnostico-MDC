{
 "cells": [
  {
   "cell_type": "markdown",
   "metadata": {
    "colab_type": "text",
    "id": "dkCueuSlM1PY"
   },
   "source": [
    "# Python"
   ]
  },
  {
   "cell_type": "markdown",
   "metadata": {
    "colab_type": "text",
    "id": "Nu3VD5pOM1PZ"
   },
   "source": [
    "1 Defina una función `max()` que toma dos números y regresa el mayor. Utilice la construccón `if-then-else` disponible en python. (Es cierto que Python tiene la función `max()` ya definida, pero escribirla es un buen ejercicio."
   ]
  },
  {
   "cell_type": "code",
   "execution_count": null,
   "metadata": {
    "collapsed": true
   },
   "outputs": [],
   "source": [
    "def max(x,y):\n",
    "\n",
    "    if x>y:\n",
    "    print (\"El número mayor es:\",x)\n",
    "    else:\n",
    "print (\"El número mayor es:\",y)"
   ]
  },
  {
   "cell_type": "code",
   "execution_count": 3,
   "metadata": {},
   "outputs": [
    {
     "name": "stdout",
     "output_type": "stream",
     "text": [
      "El número mayor es: 587\n"
     ]
    }
   ],
   "source": [
    "max(89,587)"
   ]
  },
  {
   "cell_type": "markdown",
   "metadata": {
    "colab_type": "text",
    "id": "0DiRa8NuM1Pj"
   },
   "source": [
    "2 Defina una función `max_of_three()` que tome tres números como argumenos y regrese el mayor de ellos."
   ]
  },
  {
   "cell_type": "code",
   "execution_count": null,
   "metadata": {
    "colab": {},
    "colab_type": "code",
    "collapsed": true,
    "id": "yxluZS-CM1Pm"
   },
   "outputs": [],
   "source": [
    "def max_of_three(x,y,z):\n",
    "  \n",
    "   while True:\n",
    "    if x>y and x>z:\n",
    "         print (\"El número mayor es:\",x)\n",
    "    else:\n",
    "           if y>x and y>z:\n",
    "            print (\"El número mayor es:\",y)\n",
    "           \n",
    "           else:\n",
    "                 if z>x and z>y:\n",
    "                    print (\"El número mayor es:\",z)"
   ]
  },
  {
   "cell_type": "code",
   "execution_count": null,
   "metadata": {
    "collapsed": true
   },
   "outputs": [],
   "source": [
    "max_of_three(5,8,6)"
   ]
  },
  {
   "cell_type": "markdown",
   "metadata": {
    "colab_type": "text",
    "id": "Qi7HpyRIM1Ps"
   },
   "source": [
    "3 Defina una función que calcule la longitud de una lista o cadena. (No utilice la función `len()`)"
   ]
  },
  {
   "cell_type": "code",
   "execution_count": null,
   "metadata": {
    "collapsed": true
   },
   "outputs": [],
   "source": [
    "def long_lista(list):\n",
    "n=0\n",
    "  \n",
    "for i in list:\n",
    "    n+=1\n",
    "    \n",
    "print('La cadena tiene',n, 'caracteres')"
   ]
  },
  {
   "cell_type": "code",
   "execution_count": null,
   "metadata": {
    "collapsed": true
   },
   "outputs": [],
   "source": [
    "long_lista('hola')"
   ]
  },
  {
   "cell_type": "markdown",
   "metadata": {
    "colab_type": "text",
    "id": "sefZiaWMM1Px"
   },
   "source": [
    "4 Escriba una función que tome un caractér (una cadena de longitud 1) y regrese `True` si es una vocal y `False` de lo contrario."
   ]
  },
  {
   "cell_type": "code",
   "execution_count": null,
   "metadata": {
    "colab": {},
    "colab_type": "code",
    "collapsed": true,
    "id": "9wTKb3fSM1Pz"
   },
   "outputs": [],
   "source": [
    "vocal=input(\"introduce una letra por favor: \")\n",
    "\n",
    "def vocal():\n",
    "  \n",
    "    if vocal=='a' or vocal=='e' or vocal=='i' or vocal=='o' or vocal=='u':\n",
    "    print (True)\n",
    "      \n",
    "    \n",
    "    else:\n",
    "    print(False)\n",
    "      \n",
    "vocal()"
   ]
  },
  {
   "cell_type": "markdown",
   "metadata": {
    "colab_type": "text",
    "id": "07ziczCVM1P4"
   },
   "source": [
    "5 Escriba una función `translate()` que tradusca un texto en _rövarspråket_ (Sueco para el lenguaje de ladrones): Duplique cada consonante y coloque una \"o\" en medio. Por ejemplo, `translate('this is fun')` debe regresar la cadena'tothohisos isos fofunon'."
   ]
  },
  {
   "cell_type": "code",
   "execution_count": 0,
   "metadata": {
    "colab": {},
    "colab_type": "code",
    "collapsed": true,
    "id": "Bs7EDzroM1P6"
   },
   "outputs": [],
   "source": [
    "consonantes=['b','c','d','f','g','h','j','k','l','m','n','p','q','r','s','t','v','w','x','y','z']  \n",
    "vocales=['a','e','i','o','u'] \n",
    "\n",
    "def translate(palabra): \n",
    "nueva_palabra=[]\n",
    "  for i in palabra:\n",
    "    nueva_palabra.append(i)\n",
    "    \n",
    "    \n",
    "    \n",
    "    if i in consonantes:\n",
    "    nueva_palabra.append('o')\n",
    "      nueva_palabra.append(i)\n",
    "      #palabra.insert(i, elemento)\n",
    "    \n",
    "print(''.join(nueva_palabra))"
   ]
  },
  {
   "cell_type": "code",
   "execution_count": null,
   "metadata": {
    "collapsed": true
   },
   "outputs": [],
   "source": [
    "translate('this is fun')"
   ]
  },
  {
   "cell_type": "markdown",
   "metadata": {
    "colab_type": "text",
    "id": "zR1i1BKaM1QB"
   },
   "source": [
    "6 Defina una función `sum()` y una función `multiply()` que sume y multiplique (respectivamente) todos los números en una lista de números. Por ejemplo, `sum([1,2,3,4])` debe regresar `10`, y `multiply([1,2,3,4])` debe regresar `24`."
   ]
  },
  {
   "cell_type": "code",
   "execution_count": 0,
   "metadata": {
    "colab": {},
    "colab_type": "code",
    "collapsed": true,
    "id": "jdlxPj6lM1QE"
   },
   "outputs": [],
   "source": [
    "def sum_list(lista):\n",
    "    suma = 0\n",
    "    \n",
    "    for i in lista:\n",
    "        suma = suma + i\n",
    "      \n",
    "    print(suma)\n"
   ]
  },
  {
   "cell_type": "code",
   "execution_count": null,
   "metadata": {
    "collapsed": true
   },
   "outputs": [],
   "source": [
    "sum_list([1,2,3,4])"
   ]
  },
  {
   "cell_type": "code",
   "execution_count": null,
   "metadata": {
    "collapsed": true
   },
   "outputs": [],
   "source": [
    "def multiply_list(lista):\n",
    "    multip = 1\n",
    "    \n",
    "    for i in lista:\n",
    "        multip = multip * i\n",
    "        \n",
    "    print(multip)"
   ]
  },
  {
   "cell_type": "code",
   "execution_count": null,
   "metadata": {
    "collapsed": true
   },
   "outputs": [],
   "source": [
    "multiply_list([1,2,3,4])"
   ]
  },
  {
   "cell_type": "markdown",
   "metadata": {
    "colab_type": "text",
    "id": "Pr66ohVBM1QO"
   },
   "source": [
    "7 Defina una función `reverse()` que regrese una cadena al revéz. Por ejemplo, `reverse('I am testing')` debe regresar la cadena `gnitset ma I`"
   ]
  },
  {
   "cell_type": "code",
   "execution_count": 0,
   "metadata": {
    "colab": {},
    "colab_type": "code",
    "collapsed": true,
    "id": "q-0DSTKPM1QP"
   },
   "outputs": [],
   "source": [
    "def reverse(x):\n",
    "if len(x)==0:\n",
    "     return x\n",
    "else:\n",
    "    return reverse(x[1:]) + x[0]"
   ]
  },
  {
   "cell_type": "code",
   "execution_count": null,
   "metadata": {
    "collapsed": true
   },
   "outputs": [],
   "source": [
    "x=\"que aburrido el super bowl\"\n",
    "print(reverse(x))"
   ]
  },
  {
   "cell_type": "code",
   "execution_count": null,
   "metadata": {
    "collapsed": true
   },
   "outputs": [],
   "source": [
    "def reverse(a):\n",
    "print(a[::-1])"
   ]
  },
  {
   "cell_type": "code",
   "execution_count": null,
   "metadata": {
    "collapsed": true
   },
   "outputs": [],
   "source": [
    "a=\"aqui va de nuevo\"\n",
    "reverse(a)"
   ]
  },
  {
   "cell_type": "markdown",
   "metadata": {
    "colab_type": "text",
    "id": "fgHXUsLdM1QZ"
   },
   "source": [
    "8 Defina una funcion `is_palindrome()` que distinga palndromos (es decir, palabras que se vean igual si se escriben al revéz). Por ejemplo, `is_palindrome('radar')` debe regresar `True`"
   ]
  },
  {
   "cell_type": "code",
   "execution_count": 0,
   "metadata": {
    "colab": {},
    "colab_type": "code",
    "collapsed": true,
    "id": "t2bdi5KWM1Qh"
   },
   "outputs": [],
   "source": [
    "palabra= 'radar'\n",
    "a=palabra\n",
    "palabra= palabra.casefold()\n",
    "\n",
    "alreves_palabra=reverse(a)\n",
    "alreves_palabra\n",
    "\n",
    "if palabra == alreves_palabra:\n",
    "    print(True)\n",
    "else:\n",
    "    print(False)"
   ]
  },
  {
   "cell_type": "markdown",
   "metadata": {
    "colab_type": "text",
    "id": "TYc7cEWMM1Qr"
   },
   "source": [
    "9 Escriba una función `is_member()` que tome un valor (un número, una cadena, etc.) `x` y una lista de valores `a`, y regrese `True` si `x` is un elemento de `a` y `False` en caso contrario. (Note que esto es exactamente lo que el operador `in` hace, pero para este ejercicio debe pretender que Python no tiene este operador)"
   ]
  },
  {
   "cell_type": "code",
   "execution_count": 0,
   "metadata": {
    "colab": {},
    "colab_type": "code",
    "collapsed": true,
    "id": "BYJ7SxbjM1Qt"
   },
   "outputs": [],
   "source": [
    "a=[1,2,3,4,5]\n",
    "\n",
    "def is_member(x):\n",
    "if x in a:\n",
    "    print(True)\n",
    "  \n",
    "  else:\n",
    "    print(False)"
   ]
  },
  {
   "cell_type": "markdown",
   "metadata": {
    "colab_type": "text",
    "id": "aC1Qa_ivM1Qz"
   },
   "source": [
    "10 Define a function `overlapping()` that takes two lists and returns `True` if they have at least one member in common, `False` otherwise. You may use your `is_member()` function, or the in operator, but for the sake of the exercise, you should (also) write it using two nested for-loops."
   ]
  },
  {
   "cell_type": "code",
   "execution_count": 0,
   "metadata": {
    "colab": {},
    "colab_type": "code",
    "collapsed": true,
    "id": "pN3fwrlrM1Q1"
   },
   "outputs": [],
   "source": [
    "def overlapping(lista1,lista2):\n",
    "for x in lista1:\n",
    "      if x in lista2:\n",
    "        print(True)\n",
    "        break\n",
    "    else:\n",
    "        print(False)"
   ]
  },
  {
   "cell_type": "code",
   "execution_count": null,
   "metadata": {
    "collapsed": true
   },
   "outputs": [],
   "source": [
    "overlapping([8,9,10],[0,8,11])"
   ]
  },
  {
   "cell_type": "markdown",
   "metadata": {
    "colab_type": "text",
    "id": "_HJ176JYM1Q5"
   },
   "source": [
    "11 Define a function `generate_n_chars()` that takes an integer `n` and a character `c` and returns a string, `n` characters long, consisting only of c:s. For example, `generate_n_chars( 5,\"x\" )` should return the string `\"xxxxx\"`. (Python is unusual in that you can actually write an expression `5 * \"x\"` that will evaluate to `\"xxxxx\"`. For the sake of the exercise you should ignore that the problem can be solved in this manner )."
   ]
  },
  {
   "cell_type": "code",
   "execution_count": 0,
   "metadata": {
    "colab": {},
    "colab_type": "code",
    "collapsed": true,
    "id": "buhytEjLM1Q7"
   },
   "outputs": [],
   "source": [
    "def generate_n_chars(n,str):\n",
    "final=\"\"\n",
    "  \n",
    "for x in range(n):\n",
    "    final+= str * n\n",
    "    \n",
    "    return final"
   ]
  },
  {
   "cell_type": "code",
   "execution_count": null,
   "metadata": {
    "collapsed": true
   },
   "outputs": [],
   "source": [
    "generate_n_chars(5,'x')"
   ]
  },
  {
   "cell_type": "markdown",
   "metadata": {
    "colab_type": "text",
    "id": "guH1w0QRM1Q-"
   },
   "source": [
    "12 Define a procedure `histogram()` that takes a list of integers and prints a histogram to the screen. For example, `histogram( [ 4, 9, 7 ] )` should print the following:\n",
    "```\n",
    "    ****\n",
    "    *********\n",
    "    *******\n",
    "```"
   ]
  },
  {
   "cell_type": "code",
   "execution_count": 0,
   "metadata": {
    "colab": {},
    "colab_type": "code",
    "collapsed": true,
    "id": "wwPIYrIFM1RD"
   },
   "outputs": [],
   "source": [
    "def histogram(list):\n",
    "  \n",
    "  for n in list:\n",
    "    resultado = ''\n",
    "    t=n\n",
    "    \n",
    "    while(t>0):\n",
    "    resultado+= '*'\n",
    "      t=t - 1\n",
    "   \n",
    "    print(resultado)"
   ]
  },
  {
   "cell_type": "code",
   "execution_count": null,
   "metadata": {
    "collapsed": true
   },
   "outputs": [],
   "source": [
    "histogram([4,9,7])"
   ]
  },
  {
   "cell_type": "markdown",
   "metadata": {
    "colab_type": "text",
    "id": "P1-eR5uAM1RS"
   },
   "source": [
    "13 The function `max()` from exercise 1) and the function `max_of_three()` from exercise 2) will only work for two and three numbers, respectively. But suppose we have a much larger number of numbers, or suppose we cannot tell in advance how many they are? Write a function `max_in_list()` that takes a list of numbers and returns the largest one."
   ]
  },
  {
   "cell_type": "code",
   "execution_count": 0,
   "metadata": {
    "colab": {},
    "colab_type": "code",
    "collapsed": true,
    "id": "VYXup5-lM1RV"
   },
   "outputs": [],
   "source": [
    "def max_in_list(list):\n",
    "maximo=0\n",
    "  \n",
    "for n in list:\n",
    "    if n> maximo:\n",
    "    maximo = n\n",
    "      \n",
    "return maximo"
   ]
  },
  {
   "cell_type": "code",
   "execution_count": null,
   "metadata": {
    "collapsed": true
   },
   "outputs": [],
   "source": [
    "max_in_list([1,2,3,4,5,6,7])"
   ]
  },
  {
   "cell_type": "markdown",
   "metadata": {
    "colab_type": "text",
    "id": "Ve0gU7fFM1Rh"
   },
   "source": [
    "14 Write a program that maps a list of words into a list of integers representing the lengths of the corresponding words.\n"
   ]
  },
  {
   "cell_type": "code",
   "execution_count": 0,
   "metadata": {
    "colab": {},
    "colab_type": "code",
    "collapsed": true,
    "id": "z8NJok1dM1Rj"
   },
   "outputs": [],
   "source": [
    "def maps_a_list(words):\n",
    "lenghts=[]\n",
    "  \n",
    "for n in words:\n",
    "    lenghts.append(len(n))\n",
    "    \n",
    "return lenghts"
   ]
  },
  {
   "cell_type": "code",
   "execution_count": null,
   "metadata": {
    "collapsed": true
   },
   "outputs": [],
   "source": [
    "maps_a_list(['hola','bye','hasta luego'])"
   ]
  },
  {
   "cell_type": "markdown",
   "metadata": {
    "colab_type": "text",
    "id": "bodcgEWlM1Rv"
   },
   "source": [
    "15 Write a function `find_longest_word()` that takes a list of words and returns the length of the longest one.\n"
   ]
  },
  {
   "cell_type": "code",
   "execution_count": 0,
   "metadata": {
    "colab": {},
    "colab_type": "code",
    "collapsed": true,
    "id": "5KSGhkIlM1R0"
   },
   "outputs": [],
   "source": [
    "def find_longest_word(words):\n",
    "lenghts=[]\n",
    "  \n",
    "for n in words:\n",
    "    lenghts.append(len(n))\n",
    "    \n",
    "print ('the length of the longest word is: ',max(lenghts))"
   ]
  },
  {
   "cell_type": "code",
   "execution_count": null,
   "metadata": {
    "collapsed": true
   },
   "outputs": [],
   "source": [
    "find_longest_word(['hola','bye','hasta luego'])"
   ]
  },
  {
   "cell_type": "markdown",
   "metadata": {
    "colab_type": "text",
    "id": "XemBwkc8M1R5"
   },
   "source": [
    "16 Write a function `filter_long_words()` that takes a list of words and an integer `n` and returns the list of words that are longer than `n`."
   ]
  },
  {
   "cell_type": "code",
   "execution_count": 0,
   "metadata": {
    "colab": {},
    "colab_type": "code",
    "collapsed": true,
    "id": "3Mqz5MFEM1R7"
   },
   "outputs": [],
   "source": [
    "def filter_long_words(str,n):\n",
    "  \n",
    "  for i in range(len(str)):\n",
    "    listwords=[]\n",
    "    \n",
    "    if len(str[i]) > n:\n",
    "    listwords.append(str[i])\n",
    "      \n",
    "    print ('the words that are longer than',n,'are : ',listwords)"
   ]
  },
  {
   "cell_type": "code",
   "execution_count": null,
   "metadata": {
    "collapsed": true
   },
   "outputs": [],
   "source": [
    "filter_long_words(['Gato','Hamburguesa','Flor'],4)"
   ]
  },
  {
   "cell_type": "markdown",
   "metadata": {
    "colab_type": "text",
    "id": "wHFQz1p0M1R_"
   },
   "source": [
    "17 Write a version of a palindrome recognizer that also accepts phrase palindromes such as \"Go hang a salami I'm a lasagna hog.\", \"Was it a rat I saw?\", \"Step on no pets\", \"Sit on a potato pan, Otis\", \"Lisa Bonet ate no basil\", \"Satan, oscillate my metallic sonatas\", \"I roamed under it as a tired nude Maori\", \"Rise to vote sir\", or the exclamation \"Dammit, I'm mad!\". Note that punctuation, capitalization, and spacing are usually ignored."
   ]
  },
  {
   "cell_type": "code",
   "execution_count": 0,
   "metadata": {
    "colab": {},
    "colab_type": "code",
    "collapsed": true,
    "id": "yC0kcCQcM1SB"
   },
   "outputs": [],
   "source": [
    "import string\n",
    "ignored = string.punctuation + \" \""
   ]
  },
  {
   "cell_type": "code",
   "execution_count": null,
   "metadata": {
    "collapsed": true
   },
   "outputs": [],
   "source": [
    "def phrase_palindromes(str):\n",
    "b=\"\"\n",
    "  \n",
    "for i in str:\n",
    "    b+=\"\"if i in ignored else i\n",
    "    \n",
    "return b.lower() == b[::-1].lower()"
   ]
  },
  {
   "cell_type": "code",
   "execution_count": null,
   "metadata": {
    "collapsed": true
   },
   "outputs": [],
   "source": [
    "phrase_palindromes(\"Go hang a salami I'm a lasagna hog.\")"
   ]
  },
  {
   "cell_type": "code",
   "execution_count": null,
   "metadata": {
    "collapsed": true
   },
   "outputs": [],
   "source": [
    "phrase_palindromes(\"Was it a rat I saw?\")"
   ]
  },
  {
   "cell_type": "code",
   "execution_count": null,
   "metadata": {
    "collapsed": true
   },
   "outputs": [],
   "source": [
    "phrase_palindromes(\"Did you call me?\")"
   ]
  },
  {
   "cell_type": "markdown",
   "metadata": {
    "colab_type": "text",
    "id": "tQdIy8fhM1SF"
   },
   "source": [
    "18 A pangram is a sentence that contains all the letters of the English alphabet at least once, for example: \"The quick brown fox jumps over the lazy dog\". Your task here is to write a function to check a sentence to see if it is a pangram or not."
   ]
  },
  {
   "cell_type": "code",
   "execution_count": 0,
   "metadata": {
    "colab": {},
    "colab_type": "code",
    "collapsed": true,
    "id": "sY2dlb1jM1SP"
   },
   "outputs": [],
   "source": [
    "def is_pangram(oracion):\n",
    "b=0\n",
    "  alphabet= \"abcdefghijklmnopqrstuvwxyz\"\n",
    "d=\"\"\n",
    "  \n",
    "for char in oracion:\n",
    "    for letter in alphabet:\n",
    "    if char == letter and char not in d:\n",
    "        d+= char\n",
    "        \n",
    "for char in d:\n",
    "          for letter in alphabet:\n",
    "            if char == letter:\n",
    "            b+= 1\n",
    "              \n",
    "\n",
    "if b == 26:\n",
    "    return True\n",
    "  \n",
    "else:\n",
    "    print (oracion, alphabet)\n",
    "    return False"
   ]
  },
  {
   "cell_type": "code",
   "execution_count": null,
   "metadata": {
    "collapsed": true
   },
   "outputs": [],
   "source": [
    "is_pangram(oracion_final)"
   ]
  },
  {
   "cell_type": "markdown",
   "metadata": {
    "colab_type": "text",
    "id": "ugVHB8jlM1SY"
   },
   "source": [
    "19 \"99 Bottles of Beer\" is a traditional song in the United States and Canada. It is popular to sing on long trips, as it has a very repetitive format which is easy to memorize, and can take a long time to sing. The song's simple lyrics are as follows:\n",
    "```99 bottles of beer on the wall, 99 bottles of beer.\n",
    "     Take one down, pass it around, 98 bottles of beer on the wall.\n",
    "```\n",
    "The same verse is repeated, each time with one fewer bottle. The song is completed when the singer or singers reach zero. Your task here is write a Python program capable of generating all the verses of the song."
   ]
  },
  {
   "cell_type": "code",
   "execution_count": 0,
   "metadata": {
    "colab": {},
    "colab_type": "code",
    "collapsed": true,
    "id": "gy8GgkwNM1SZ"
   },
   "outputs": [],
   "source": [
    "def n99_bottles_of_beer():\n",
    "  \n",
    "  for i in range (99,0,-1):\n",
    "    print(\"%d bottles of beer on the wall, %d bottles of beer.\\n\" \\\n",
    "              \"Take one down, pass it around, %d bottles of beer on the wall.\" % (i, i, i - 1))"
   ]
  },
  {
   "cell_type": "code",
   "execution_count": null,
   "metadata": {
    "collapsed": true
   },
   "outputs": [],
   "source": [
    "n99_bottles_of_beer()"
   ]
  },
  {
   "cell_type": "markdown",
   "metadata": {
    "colab_type": "text",
    "id": "BJ10mzKjM1Sf"
   },
   "source": [
    "20 Represent a small bilingual lexicon as a Python dictionary in the following fashion\n",
    "\n",
    "`{ \"merry\":\"god\", \"christmas\":\"jul\", \"and\":\"och\", \"happy\":gott\", \"new\":\"nytt\", \"year\":\"år\" }`\n",
    "\n",
    "\n",
    "and use it to translate your Christmas cards from English into Swedish. That is, write a function `translate()` that takes a list of English words and returns a list of Swedish words."
   ]
  },
  {
   "cell_type": "code",
   "execution_count": 0,
   "metadata": {
    "colab": {},
    "colab_type": "code",
    "collapsed": true,
    "id": "t-LeCUKUM1Sg"
   },
   "outputs": [],
   "source": [
    "def translate(words):\n",
    "diccionario = { \"merry\":\"god\", \"christmas\":\"jul\", \"and\":\"och\", \\\n",
    "               \"happy\":\"gott\", \"new\":\"nytt\", \"year\":\"år\" }\n",
    "  \n",
    "return list(map(lambda x: diccionario[x] if x in diccionario else False,words))"
   ]
  },
  {
   "cell_type": "code",
   "execution_count": null,
   "metadata": {
    "collapsed": true
   },
   "outputs": [],
   "source": [
    "a= ['merry', 'christmas', 'and', 'happy', 'new', 'baby']\n",
    "translate(a)"
   ]
  },
  {
   "cell_type": "markdown",
   "metadata": {
    "colab_type": "text",
    "id": "J8lea8LUM1Sj"
   },
   "source": [
    "21 Write a function `char_freq()` that takes a string and builds a frequency listing of the characters contained in it. Represent the frequency listing as a Python dictionary. Try it with something like `char_freq(\"abbabcbdbabdbdbabababcbcbab\")`."
   ]
  },
  {
   "cell_type": "code",
   "execution_count": 0,
   "metadata": {
    "colab": {},
    "colab_type": "code",
    "collapsed": true,
    "id": "5bYkuBKRM1Sm"
   },
   "outputs": [],
   "source": [
    "def char_freq(str):\n",
    "frequency={}\n",
    "  \n",
    "for l in str:\n",
    "    if l in frequency:\n",
    "    frequency[l]+= 1\n",
    "      \n",
    "    else:\n",
    "    frequency[l] = 1\n",
    "return frequency"
   ]
  },
  {
   "cell_type": "code",
   "execution_count": null,
   "metadata": {
    "collapsed": true
   },
   "outputs": [],
   "source": [
    "char_freq(\"abbabcbdbabdbdbabababcbcbab\")"
   ]
  },
  {
   "cell_type": "markdown",
   "metadata": {
    "colab_type": "text",
    "id": "j4zxYFUdM1Sz"
   },
   "source": [
    "22 In cryptography, a Caesar cipher is a very simple encryption techniques in which each letter in the plain text is replaced by a letter some fixed number of positions down the alphabet. For example, with a shift of 3, A would be replaced by D, B would become E, and so on. The method is named after Julius Caesar, who used it to communicate with his generals. `ROT-13 (\"rotate by 13 places\")` is a widely used example of a Caesar cipher where the shift is 13. In Python, the key for ROT-13 may be represented by means of the following dictionary:\n",
    "\n",
    "```\n",
    "  key = {'a':'n', 'b':'o', 'c':'p', 'd':'q', 'e':'r', 'f':'s', 'g':'t', 'h':'u',\n",
    "         'i':'v', 'j':'w', 'k':'x', 'l':'y', 'm':'z', 'n':'a', 'o':'b', 'p':'c',\n",
    "         'q':'d', 'r':'e', 's':'f', 't':'g', 'u':'h', 'v':'i', 'w':'j', 'x':'k',\n",
    "         'y':'l', 'z':'m', 'A':'N', 'B':'O', 'C':'P', 'D':'Q', 'E':'R', 'F':'S',\n",
    "         'G':'T', 'H':'U', 'I':'V', 'J':'W', 'K':'X', 'L':'Y', 'M':'Z', 'N':'A',\n",
    "         'O':'B', 'P':'C', 'Q':'D', 'R':'E', 'S':'F', 'T':'G', 'U':'H', 'V':'I',\n",
    "         'W':'J', 'X':'K', 'Y':'L', 'Z':'M'}\n",
    "```\n",
    "Your task in this exercise is to implement an encoder/decoder of ROT-13. Once you're done, you will be able to read the following secret message:\n",
    "\n",
    "```\n",
    "  Pnrfne pvcure? V zhpu cersre Pnrfne fnynq!\n",
    "```\n",
    "Note that since English has 26 characters, your ROT-13 program will be able to both encode and decode texts written in English.\n"
   ]
  },
  {
   "cell_type": "code",
   "execution_count": 0,
   "metadata": {
    "colab": {},
    "colab_type": "code",
    "collapsed": true,
    "id": "jh9USQnFM1S5"
   },
   "outputs": [],
   "source": [
    "def rot13_decode(secret):\n",
    "  \n",
    "  key = {'a': 'n', 'b': 'o', 'c': 'p', 'd': 'q', 'e': 'r', 'f': 's', 'g': 't', 'h': 'u',\n",
    "           'i': 'v', 'j': 'w', 'k': 'x', 'l': 'y', 'm': 'z', 'n': 'a', 'o': 'b', 'p': 'c',\n",
    "           'q': 'd', 'r': 'e', 's': 'f', 't': 'g', 'u': 'h', 'v': 'i', 'w': 'j', 'x': 'k',\n",
    "           'y': 'l', 'z': 'm', 'A': 'N', 'B': 'O', 'C': 'P', 'D': 'Q', 'E': 'R', 'F': 'S',\n",
    "           'G': 'T', 'H': 'U', 'I': 'V', 'J': 'W', 'K': 'X', 'L': 'Y', 'M': 'Z', 'N': 'A',\n",
    "           'O': 'B', 'P': 'C', 'Q': 'D', 'R': 'E', 'S': 'F', 'T': 'G', 'U': 'H', 'V': 'I',\n",
    "           'W': 'J', 'X': 'K', 'Y': 'L', 'Z': 'M'}\n",
    "  \n",
    "  words= [words for words in secret.split()]\n",
    "results = []\n",
    "  \n",
    "for word in words:\n",
    "    results.append(\"\".join([key[char] if char in key.keys() else char for char in word]))\n",
    "    \n",
    "return \"\".join(results)"
   ]
  },
  {
   "cell_type": "code",
   "execution_count": null,
   "metadata": {
    "collapsed": true
   },
   "outputs": [],
   "source": [
    "rot13_decode(\"Pnrfne pvcure? V zhpu cersre Pnrfne fnynq!\")"
   ]
  },
  {
   "cell_type": "markdown",
   "metadata": {
    "colab_type": "text",
    "id": "A-ByAI9BM1TC"
   },
   "source": [
    "\n",
    "23 Define a simple \"spelling correction\" function `correct()` that takes a string and sees to it that 1) two or more occurrences of the space character is compressed into one, and 2) inserts an extra space after a period if the period is directly followed by a letter. E.g. `correct(\"This   is  very funny  and    cool.Indeed!\")` should return \"This is very funny and cool. Indeed!\" Tip: Use regular expressions!\n"
   ]
  },
  {
   "cell_type": "code",
   "execution_count": 0,
   "metadata": {
    "colab": {},
    "colab_type": "code",
    "collapsed": true,
    "id": "DBfU9iiwM1TG"
   },
   "outputs": [],
   "source": [
    "def correct(string):\n",
    "  \n",
    "  return ' '.join(string.replace('.', '.').split())"
   ]
  },
  {
   "cell_type": "code",
   "execution_count": null,
   "metadata": {
    "collapsed": true
   },
   "outputs": [],
   "source": [
    "correct( \"This is very funny and cool.Indeed!\")"
   ]
  },
  {
   "cell_type": "markdown",
   "metadata": {
    "colab_type": "text",
    "id": "NEowU9xiM1TL"
   },
   "source": [
    "24 The third person singular verb form in English is distinguished by the suffix -s, which is added to the stem of the infinitive form: run -> runs. A simple set of rules can be given as follows:\n",
    "\n",
    "  a. If the verb ends in y, remove it and add ies\n",
    "  b. If the verb ends in o, ch, s, sh, x or z, add es\n",
    "  c. By default just add s\n",
    "Your task in this exercise is to define a function `make_3sg_form()` which given a verb in infinitive form returns its third person singular form. Test your function with words like try, brush, run and fix. Note however that the rules must be regarded as heuristic, in the sense that you must not expect them to work for all cases. Tip: Check out the string method `endswith()`.\n"
   ]
  },
  {
   "cell_type": "code",
   "execution_count": 0,
   "metadata": {
    "colab": {},
    "colab_type": "code",
    "collapsed": true,
    "id": "3cQaXUDnM1TO"
   },
   "outputs": [],
   "source": [
    "import re\n",
    "\n",
    "def make_3sg_form(verb):\n",
    "  \n",
    "  ends =  ('o', 'ch', 's', 'sh', 'x', 'z')\n",
    "if verb.endswith('y'):\n",
    "    return re.sub('y$', 'ies', verb)\n",
    "  \n",
    "elif verb.endswith(ends):\n",
    "    return verb + 'ends'\n",
    "  \n",
    "else:\n",
    "    return verb + 's'"
   ]
  },
  {
   "cell_type": "code",
   "execution_count": null,
   "metadata": {
    "collapsed": true
   },
   "outputs": [],
   "source": [
    "make_3sg_form('read')"
   ]
  },
  {
   "cell_type": "code",
   "execution_count": null,
   "metadata": {
    "collapsed": true
   },
   "outputs": [],
   "source": [
    "make_3sg_form('dance')"
   ]
  },
  {
   "cell_type": "markdown",
   "metadata": {
    "colab_type": "text",
    "id": "gdlwlR4TM1Tb"
   },
   "source": [
    "25 In English, the present participle is formed by adding the suffix -ing to the infinite form: go -> going. A simple set of heuristic rules can be given as follows:\n",
    "\n",
    "  1. If the verb ends in e, drop the e and add ing (if not exception: be, see, flee, knee, etc.)\n",
    "  2. If the verb ends in ie, change ie to y and add ing\n",
    "  3. For words consisting of consonant-vowel-consonant, double the final letter before adding ing\n",
    "  4. By default just add ing\n",
    "\n",
    "Your task in this exercise is to define a function `make_ing_form()` which given a verb in infinitive form returns its present participle form. Test your function with words such as lie, see, move and hug. However, you must not expect such simple rules to work for all cases."
   ]
  },
  {
   "cell_type": "code",
   "execution_count": 0,
   "metadata": {
    "colab": {},
    "colab_type": "code",
    "collapsed": true,
    "id": "sSwQylakM1Th"
   },
   "outputs": [],
   "source": [
    "def make_ing_form(verb):\n",
    "  \n",
    "  if verb.endswith('ie'):\n",
    "    return verb[:-2] + 'ying'\n",
    "  elif verb.endswith('e') and (verb[-2].endswith('e') or len(verb) == 2):\n",
    "    return verb + 'ing'\n",
    "  elif verb.endswith('e'):\n",
    "    return verb[:-1] + 'ing'\n",
    "  elif not is_vowel(verb[-1]) and is_vowel(verb[-2]) and not is_vowel(verb[-3]):\n",
    "    return verb + verb[-1] + 'ing'\n",
    "  else:\n",
    "    return verb + 'ing'"
   ]
  },
  {
   "cell_type": "code",
   "execution_count": null,
   "metadata": {
    "collapsed": true
   },
   "outputs": [],
   "source": [
    "make_ing_form('be')"
   ]
  },
  {
   "cell_type": "code",
   "execution_count": null,
   "metadata": {
    "collapsed": true
   },
   "outputs": [],
   "source": [
    "\n",
    "make_ing_form('lie')"
   ]
  }
 ],
 "metadata": {
  "colab": {
   "name": "02 Python",
   "provenance": [],
   "version": "0.3.2"
  },
  "kernelspec": {
   "display_name": "Python 3",
   "language": "python",
   "name": "python3"
  },
  "language_info": {
   "codemirror_mode": {
    "name": "ipython",
    "version": 3
   },
   "file_extension": ".py",
   "mimetype": "text/x-python",
   "name": "python",
   "nbconvert_exporter": "python",
   "pygments_lexer": "ipython3",
   "version": "3.6.3"
  }
 },
 "nbformat": 4,
 "nbformat_minor": 1
}
