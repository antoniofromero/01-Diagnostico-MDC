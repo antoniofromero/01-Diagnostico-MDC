{
  "nbformat": 4,
  "nbformat_minor": 0,
  "metadata": {
    "colab": {
      "name": "Copia de 01_puntuacion_crediticia.ipynb",
      "version": "0.3.2",
      "provenance": []
    },
    "kernelspec": {
      "display_name": "Python 3",
      "language": "python",
      "name": "python3"
    }
  },
  "cells": [
    {
      "metadata": {
        "id": "j-sxBaC5F8xz",
        "colab_type": "text"
      },
      "cell_type": "markdown",
      "source": [
        "# Diagnostico"
      ]
    },
    {
      "metadata": {
        "id": "rGTk8QunF8x0",
        "colab_type": "text"
      },
      "cell_type": "markdown",
      "source": [
        "## Programación\n",
        "Escribe codigo o pseudo-codigo para resolver los siguientes problemas:\n",
        "\n",
        "1.- Escribe un programa que pida un numero __n__ al usuario e imprima la suma de los numeros del 1 al __n__.\n"
      ]
    },
    {
      "metadata": {
        "id": "jrOv6ChIF8x0",
        "colab_type": "code",
        "outputId": "ffa3c0fc-76f9-452e-9043-4c89469e6889",
        "colab": {
          "base_uri": "https://localhost:8080/",
          "height": 51
        }
      },
      "cell_type": "code",
      "source": [
        "x = int(input ('Ingrese un numero  entero: '))\n",
        "\n",
        "s = 0;\n",
        "for i in range(x + 1):\n",
        "  s = s + i\n",
        "  i = i + 1\n",
        "print ('La sumatoria es: ',s)"
      ],
      "execution_count": 0,
      "outputs": [
        {
          "output_type": "stream",
          "text": [
            "Ingrese un numero  entero: 5\n",
            "La sumatoria es:  15\n"
          ],
          "name": "stdout"
        }
      ]
    },
    {
      "metadata": {
        "id": "evs495upF8x4",
        "colab_type": "text"
      },
      "cell_type": "markdown",
      "source": [
        "2.- Escribe una funcion que combine dos listas tomando alternadamante elemtos, e.j. [a,b,c], [1,2,3] → [a,1,b,2,c,3]."
      ]
    },
    {
      "metadata": {
        "id": "dQj-Ou4NF8x5",
        "colab_type": "code",
        "outputId": "8fa0ebb8-a8fa-4515-8bf7-461becb96776",
        "colab": {
          "base_uri": "https://localhost:8080/",
          "height": 34
        }
      },
      "cell_type": "code",
      "source": [
        "l1 = ['a','b','c']\n",
        "l2 = [1,2,3]\n",
        "l3 = []\n",
        "while True:\n",
        "  try:\n",
        "    l3.append(l1.pop(0))\n",
        "    l3.append(l2.pop(0))\n",
        "  except IndexError: \n",
        "      break \n",
        "print (l3)"
      ],
      "execution_count": 0,
      "outputs": [
        {
          "output_type": "stream",
          "text": [
            "['a', 1, 'b', 2, 'c', 3]\n"
          ],
          "name": "stdout"
        }
      ]
    },
    {
      "metadata": {
        "id": "EAWD1KFlF8x6",
        "colab_type": "text"
      },
      "cell_type": "markdown",
      "source": [
        "3.- Escriba un programa que escriba todas las formas de colocar + o - entre los numeros 1,2,..., 9 (en este mismo orden) tal que el resultado sea 100. e.j. 1 + 2 + 3 - 4 + 5 + 6 + 78 + 9 = 100."
      ]
    },
    {
      "metadata": {
        "id": "lK8R4yJ3F8x7",
        "colab_type": "code",
        "outputId": "7b11b211-3057-4326-b4ba-d6b3f39bf2a4",
        "colab": {
          "base_uri": "https://localhost:8080/",
          "height": 34
        }
      },
      "cell_type": "code",
      "source": [
        "from itertools import combinations\n",
        "\n",
        "list = [1,2,3,4,5,6,7,8,9]\n",
        "print (list)"
      ],
      "execution_count": 0,
      "outputs": [
        {
          "output_type": "stream",
          "text": [
            "[1, 2, 3, 4, 5, 6, 7, 8, 9]\n"
          ],
          "name": "stdout"
        }
      ]
    },
    {
      "metadata": {
        "id": "DMtry3vaF8x9",
        "colab_type": "text"
      },
      "cell_type": "markdown",
      "source": [
        "# Estadística\n",
        "4.- La probabilidad de ganar una medalal de oro de cada miembro de el equipo olimpico Mexicano es de 10%. Cual es la probabilidad de obtener cero medallas de oro por el equipo Mexicano."
      ]
    },
    {
      "metadata": {
        "id": "jCbNWR1wF8x-",
        "colab_type": "code",
        "outputId": "dff1a0e9-0710-4121-c1c4-340d834af87a",
        "colab": {
          "base_uri": "https://localhost:8080/",
          "height": 51
        }
      },
      "cell_type": "code",
      "source": [
        "pg = .1;\n",
        "pp = 1-pg;\n",
        "x = int (input('Ingrese un numero entero: '));\n",
        "prob = pp**x;\n",
        "print ('La probabilidad de que el equipo mexicano no gane ninguna medalla de oro es de: ',prob)"
      ],
      "execution_count": 0,
      "outputs": [
        {
          "output_type": "stream",
          "text": [
            "Ingrese un numero entero: 2\n",
            "La probabilidad de que el equipo mexicano no gane ninguna medalla de oro es de:  0.81\n"
          ],
          "name": "stdout"
        }
      ]
    },
    {
      "metadata": {
        "id": "ljyF6S52F8x_",
        "colab_type": "text"
      },
      "cell_type": "markdown",
      "source": [
        "Si $P(A) = 0.20$ y $P(B) = 0.51$, donde $P(B|A) = 0.89$.    \n",
        "5.- Cual es $P(A y B)$? Cual es $P(A|B)$?"
      ]
    },
    {
      "metadata": {
        "id": "fNhoEG41F8yB",
        "colab_type": "code",
        "outputId": "9ef3e39f-870b-4b23-fbde-18b872e89925",
        "colab": {
          "base_uri": "https://localhost:8080/",
          "height": 34
        }
      },
      "cell_type": "code",
      "source": [
        "PA = .2;\n",
        "PB = .51; \n",
        "PBA = .89; \n",
        "PA1B = PBA * PA;\n",
        "PAB = PA1B / PB;\n",
        "print ('La probabilidad P(A y B)= ',PA1B, 'y la probabilidad de P(A|B)= ',PAB)"
      ],
      "execution_count": 0,
      "outputs": [
        {
          "output_type": "stream",
          "text": [
            "La probabilidad P(A y B)=  0.17800000000000002 y la probabilidad de P(A|B)=  0.3490196078431373\n"
          ],
          "name": "stdout"
        }
      ]
    },
    {
      "metadata": {
        "id": "tqWwGddkF8yC",
        "colab_type": "text"
      },
      "cell_type": "markdown",
      "source": [
        "# Cálculo\n",
        "6.- $\\frac{d}{dx} ( x^2 + e^x )$ "
      ]
    },
    {
      "metadata": {
        "id": "WvRmbYoZF8yD",
        "colab_type": "code",
        "outputId": "72f6ed92-5ab9-4747-d095-b709b81d44a8",
        "colab": {
          "base_uri": "https://localhost:8080/",
          "height": 34
        }
      },
      "cell_type": "code",
      "source": [
        "from sympy import *  \n",
        "import numpy as np\n",
        "\n",
        "x = Symbol('x')\n",
        "\n",
        "f = x**2 + exp(x)\n",
        "fp = f.diff(x)\n",
        "print (fp)\n"
      ],
      "execution_count": 0,
      "outputs": [
        {
          "output_type": "stream",
          "text": [
            "2*x + exp(x)\n"
          ],
          "name": "stdout"
        }
      ]
    },
    {
      "metadata": {
        "id": "fkjDIKbJF8yE",
        "colab_type": "text"
      },
      "cell_type": "markdown",
      "source": [
        "7.- $\\int_0^1 \\sqrt{ 1 - x^2 }$"
      ]
    },
    {
      "metadata": {
        "id": "o1lCNjQ9F8yF",
        "colab_type": "code",
        "outputId": "185ade3d-06ee-44e4-de90-7eff75c0a141",
        "colab": {
          "base_uri": "https://localhost:8080/",
          "height": 34
        }
      },
      "cell_type": "code",
      "source": [
        "from sympy import *\n",
        "\n",
        "integral = Integral(sqrt(1-x**2), (x, 0, 1))\n",
        "integral.doit()"
      ],
      "execution_count": 0,
      "outputs": [
        {
          "output_type": "execute_result",
          "data": {
            "text/plain": [
              "pi/4"
            ]
          },
          "metadata": {
            "tags": []
          },
          "execution_count": 6
        }
      ]
    },
    {
      "metadata": {
        "id": "sqhaW6I-F8yI",
        "colab_type": "text"
      },
      "cell_type": "markdown",
      "source": [
        "8.- $\\frac{d}{dx} \\frac{1}{1 + e^{-x}}$"
      ]
    },
    {
      "metadata": {
        "id": "-d9D1jr2F8yJ",
        "colab_type": "code",
        "outputId": "11faebc2-3632-4581-9bf2-540eaeb03bba",
        "colab": {
          "base_uri": "https://localhost:8080/",
          "height": 34
        }
      },
      "cell_type": "code",
      "source": [
        "from sympy import *\n",
        "\n",
        "z = Symbol('z')\n",
        "f = 1/(1+exp(-z))\n",
        "fp = f.diff(z)\n",
        "\n",
        "print (fp)"
      ],
      "execution_count": 0,
      "outputs": [
        {
          "output_type": "stream",
          "text": [
            "exp(-z)/(1 + exp(-z))**2\n"
          ],
          "name": "stdout"
        }
      ]
    },
    {
      "metadata": {
        "id": "chhPY8QkF8yL",
        "colab_type": "text"
      },
      "cell_type": "markdown",
      "source": [
        "# Puntuación Crediticia"
      ]
    },
    {
      "metadata": {
        "id": "fF1t4Z2CF8yM",
        "colab_type": "text"
      },
      "cell_type": "markdown",
      "source": [
        "Considere la siguiente solicitud de credito hipotecario: https://www.bancomer.com/fbin/SolCH_tcm1344-487598.pdf\n",
        "\n",
        "9.- Escriba ejemplos de datos solicitados y que __C__(Caracter, Capacidad, Capital, Colateral) intenta determinar."
      ]
    },
    {
      "metadata": {
        "id": "vvMRYoXkJTgi",
        "colab_type": "text"
      },
      "cell_type": "markdown",
      "source": [
        "**Carácter - del solicitante**\n",
        "\n",
        "El intermediario financiero en este caso necesita tener la impresión de que es confiable la persona, que tiene el carácter para cumplir las obligaciones para esto son los requisitos como: tener más de 25 años, planear el crédito para que concluya antes de que cumpla 85 años, residir en México, sea extranjero o mexicano.\n",
        "\n",
        "**Capacidad - de pago**\n",
        "\n",
        "El banco quiere saber si cuenta con capacidad de pago y para ello investiga cómo es que el solicitante del crédito pretende hacer frente a sus obligaciones, considerando: flujos de efectivo, el calendario de pagos, comprobar antigüedad en su empleo actual o tener buen historial de crédito.\n",
        "\n",
        "**Capital - patrimonio neto**\n",
        "\n",
        "El banco desea verificar que el cliente cuenta con más activos que pasivos y tiene la capacidad de convertir rápidamente sus activos en efectivo de ser necesario. Para esto los requisitos como: ser persona física asalariada, profesionista independiente o con actividad empresarial, carta membretada de la empresa o institución donde labora, donde se especifique su sueldo mensual bruto, otros ingresos, indicando monto, concepto y periodicidad etc.\n",
        "\n",
        "**Colateral - como garantía**\n",
        "\n",
        "Para otorgar un crédito, suele requerirse la entrega de una garantía “colateral”, en forma de bienes muebles o inmuebles, en este tipo de credito para comprar una casa nueva el colateral es la casa misma y los requisitos de la casa a comprar son: estar ubicada en zona urbana o suburbana, tener vida útil igual o superior al plazo del crédito, contar con ciertos servicios como: agua, energía eléctrica, drenaje, pavimentación y contar con un minimo de habitaciones.\n",
        "\n",
        "**Condiciones - circunstancias externas**\n",
        "\n",
        "El bano busca determinadas condiciones más allá de su historial financiero podrían contribuir a su capacidad para obtener un crédito. Por ejemplo, si se prevé que una recesión afecte su industria, los prestamistas podrían ser cautelosos respecto de aprobarle un crédito."
      ]
    },
    {
      "metadata": {
        "id": "3XxsquHLF8yO",
        "colab_type": "text"
      },
      "cell_type": "markdown",
      "source": [
        "10.- Obtenga su reporte de crédito de Buro de Crédito: https://www.burodecredito.com.mx/ o Círculo de Crédito: https://www.circulodecredito.com.mx/. Por ley puede obtener un reporte gratis cada 12 meses (evite agregar analisis extras que puedan generarle costo). __NO envie su reporte como parte de la tarea__, solo revise la información que contiene."
      ]
    },
    {
      "metadata": {
        "id": "XyN0_L1WF8yO",
        "colab_type": "text"
      },
      "cell_type": "markdown",
      "source": [
        "Opcional: Credit Reports: Last Week Tonight with John Oliver (HBO) https://www.youtube.com/watch?v=aRrDsbUdY_k"
      ]
    }
  ]
}